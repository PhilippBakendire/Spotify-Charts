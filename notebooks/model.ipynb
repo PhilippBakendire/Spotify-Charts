{
 "cells": [
  {
   "cell_type": "code",
   "execution_count": null,
   "metadata": {},
   "outputs": [],
   "source": []
  }
 ],
 "metadata": {
  "kernelspec": {
   "display_name": "Python 3",
   "language": "python",
   "name": "python3"
  },
  "language_info": {
   "name": "python",
   "version": "3.10.4 (main, Jul 25 2022, 18:26:50) [Clang 13.1.6 (clang-1316.0.21.2.5)]"
  },
  "orig_nbformat": 4,
  "vscode": {
   "interpreter": {
    "hash": "2a031da5295c82034d232b2c28734cecf8be37d31aaf646f84453e69a33ae772"
   }
  }
 },
 "nbformat": 4,
 "nbformat_minor": 2
}
