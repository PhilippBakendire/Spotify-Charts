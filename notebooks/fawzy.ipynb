{
 "cells": [
  {
   "cell_type": "code",
   "execution_count": 1,
   "metadata": {},
   "outputs": [],
   "source": [
    "import pandas as pd\n",
    "import numpy  as np\n",
    "import matplotlib.pyplot as plt\n",
    "import seaborn\n",
    "from pandas_profiling import ProfileReport"
   ]
  },
  {
   "cell_type": "code",
   "execution_count": 13,
   "outputs": [
    {
     "ename": "KeyboardInterrupt",
     "evalue": "",
     "output_type": "error",
     "traceback": [
      "\u001B[1;31m---------------------------------------------------------------------------\u001B[0m",
      "\u001B[1;31mKeyboardInterrupt\u001B[0m                         Traceback (most recent call last)",
      "Cell \u001B[1;32mIn[13], line 1\u001B[0m\n\u001B[1;32m----> 1\u001B[0m mine \u001B[38;5;241m=\u001B[39m \u001B[43mpd\u001B[49m\u001B[38;5;241;43m.\u001B[39;49m\u001B[43mread_parquet\u001B[49m\u001B[43m(\u001B[49m\u001B[38;5;124;43m\"\u001B[39;49m\u001B[38;5;124;43m../data/charts.parquet\u001B[39;49m\u001B[38;5;124;43m\"\u001B[39;49m\u001B[43m)\u001B[49m\n\u001B[0;32m      2\u001B[0m mine\n",
      "File \u001B[1;32mc:\\users\\fawzi\\documents\\github\\spotify-charts\\venv\\lib\\site-packages\\pandas\\io\\parquet.py:503\u001B[0m, in \u001B[0;36mread_parquet\u001B[1;34m(path, engine, columns, storage_options, use_nullable_dtypes, **kwargs)\u001B[0m\n\u001B[0;32m    456\u001B[0m \u001B[38;5;124;03m\"\"\"\u001B[39;00m\n\u001B[0;32m    457\u001B[0m \u001B[38;5;124;03mLoad a parquet object from the file path, returning a DataFrame.\u001B[39;00m\n\u001B[0;32m    458\u001B[0m \n\u001B[1;32m   (...)\u001B[0m\n\u001B[0;32m    499\u001B[0m \u001B[38;5;124;03mDataFrame\u001B[39;00m\n\u001B[0;32m    500\u001B[0m \u001B[38;5;124;03m\"\"\"\u001B[39;00m\n\u001B[0;32m    501\u001B[0m impl \u001B[38;5;241m=\u001B[39m get_engine(engine)\n\u001B[1;32m--> 503\u001B[0m \u001B[38;5;28;01mreturn\u001B[39;00m impl\u001B[38;5;241m.\u001B[39mread(\n\u001B[0;32m    504\u001B[0m     path,\n\u001B[0;32m    505\u001B[0m     columns\u001B[38;5;241m=\u001B[39mcolumns,\n\u001B[0;32m    506\u001B[0m     storage_options\u001B[38;5;241m=\u001B[39mstorage_options,\n\u001B[0;32m    507\u001B[0m     use_nullable_dtypes\u001B[38;5;241m=\u001B[39muse_nullable_dtypes,\n\u001B[0;32m    508\u001B[0m     \u001B[38;5;241m*\u001B[39m\u001B[38;5;241m*\u001B[39mkwargs,\n\u001B[0;32m    509\u001B[0m )\n",
      "File \u001B[1;32mc:\\users\\fawzi\\documents\\github\\spotify-charts\\venv\\lib\\site-packages\\pandas\\io\\parquet.py:251\u001B[0m, in \u001B[0;36mPyArrowImpl.read\u001B[1;34m(self, path, columns, use_nullable_dtypes, storage_options, **kwargs)\u001B[0m\n\u001B[0;32m    244\u001B[0m path_or_handle, handles, kwargs[\u001B[38;5;124m\"\u001B[39m\u001B[38;5;124mfilesystem\u001B[39m\u001B[38;5;124m\"\u001B[39m] \u001B[38;5;241m=\u001B[39m _get_path_or_handle(\n\u001B[0;32m    245\u001B[0m     path,\n\u001B[0;32m    246\u001B[0m     kwargs\u001B[38;5;241m.\u001B[39mpop(\u001B[38;5;124m\"\u001B[39m\u001B[38;5;124mfilesystem\u001B[39m\u001B[38;5;124m\"\u001B[39m, \u001B[38;5;28;01mNone\u001B[39;00m),\n\u001B[0;32m    247\u001B[0m     storage_options\u001B[38;5;241m=\u001B[39mstorage_options,\n\u001B[0;32m    248\u001B[0m     mode\u001B[38;5;241m=\u001B[39m\u001B[38;5;124m\"\u001B[39m\u001B[38;5;124mrb\u001B[39m\u001B[38;5;124m\"\u001B[39m,\n\u001B[0;32m    249\u001B[0m )\n\u001B[0;32m    250\u001B[0m \u001B[38;5;28;01mtry\u001B[39;00m:\n\u001B[1;32m--> 251\u001B[0m     result \u001B[38;5;241m=\u001B[39m \u001B[38;5;28mself\u001B[39m\u001B[38;5;241m.\u001B[39mapi\u001B[38;5;241m.\u001B[39mparquet\u001B[38;5;241m.\u001B[39mread_table(\n\u001B[0;32m    252\u001B[0m         path_or_handle, columns\u001B[38;5;241m=\u001B[39mcolumns, \u001B[38;5;241m*\u001B[39m\u001B[38;5;241m*\u001B[39mkwargs\n\u001B[0;32m    253\u001B[0m     )\u001B[38;5;241m.\u001B[39mto_pandas(\u001B[38;5;241m*\u001B[39m\u001B[38;5;241m*\u001B[39mto_pandas_kwargs)\n\u001B[0;32m    254\u001B[0m     \u001B[38;5;28;01mif\u001B[39;00m manager \u001B[38;5;241m==\u001B[39m \u001B[38;5;124m\"\u001B[39m\u001B[38;5;124marray\u001B[39m\u001B[38;5;124m\"\u001B[39m:\n\u001B[0;32m    255\u001B[0m         result \u001B[38;5;241m=\u001B[39m result\u001B[38;5;241m.\u001B[39m_as_manager(\u001B[38;5;124m\"\u001B[39m\u001B[38;5;124marray\u001B[39m\u001B[38;5;124m\"\u001B[39m, copy\u001B[38;5;241m=\u001B[39m\u001B[38;5;28;01mFalse\u001B[39;00m)\n",
      "File \u001B[1;32mc:\\users\\fawzi\\documents\\github\\spotify-charts\\venv\\lib\\site-packages\\pyarrow\\array.pxi:830\u001B[0m, in \u001B[0;36mpyarrow.lib._PandasConvertible.to_pandas\u001B[1;34m()\u001B[0m\n",
      "File \u001B[1;32mc:\\users\\fawzi\\documents\\github\\spotify-charts\\venv\\lib\\site-packages\\pyarrow\\table.pxi:3908\u001B[0m, in \u001B[0;36mpyarrow.lib.Table._to_pandas\u001B[1;34m()\u001B[0m\n",
      "File \u001B[1;32mc:\\users\\fawzi\\documents\\github\\spotify-charts\\venv\\lib\\site-packages\\pyarrow\\pandas_compat.py:820\u001B[0m, in \u001B[0;36mtable_to_blockmanager\u001B[1;34m(options, table, categories, ignore_metadata, types_mapper)\u001B[0m\n\u001B[0;32m    818\u001B[0m _check_data_column_metadata_consistency(all_columns)\n\u001B[0;32m    819\u001B[0m columns \u001B[38;5;241m=\u001B[39m _deserialize_column_index(table, all_columns, column_indexes)\n\u001B[1;32m--> 820\u001B[0m blocks \u001B[38;5;241m=\u001B[39m \u001B[43m_table_to_blocks\u001B[49m\u001B[43m(\u001B[49m\u001B[43moptions\u001B[49m\u001B[43m,\u001B[49m\u001B[43m \u001B[49m\u001B[43mtable\u001B[49m\u001B[43m,\u001B[49m\u001B[43m \u001B[49m\u001B[43mcategories\u001B[49m\u001B[43m,\u001B[49m\u001B[43m \u001B[49m\u001B[43mext_columns_dtypes\u001B[49m\u001B[43m)\u001B[49m\n\u001B[0;32m    822\u001B[0m axes \u001B[38;5;241m=\u001B[39m [columns, index]\n\u001B[0;32m    823\u001B[0m \u001B[38;5;28;01mreturn\u001B[39;00m BlockManager(blocks, axes)\n",
      "File \u001B[1;32mc:\\users\\fawzi\\documents\\github\\spotify-charts\\venv\\lib\\site-packages\\pyarrow\\pandas_compat.py:1170\u001B[0m, in \u001B[0;36m_table_to_blocks\u001B[1;34m(options, block_table, categories, extension_columns)\u001B[0m\n\u001B[0;32m   1165\u001B[0m \u001B[38;5;28;01mdef\u001B[39;00m \u001B[38;5;21m_table_to_blocks\u001B[39m(options, block_table, categories, extension_columns):\n\u001B[0;32m   1166\u001B[0m     \u001B[38;5;66;03m# Part of table_to_blockmanager\u001B[39;00m\n\u001B[0;32m   1167\u001B[0m \n\u001B[0;32m   1168\u001B[0m     \u001B[38;5;66;03m# Convert an arrow table to Block from the internal pandas API\u001B[39;00m\n\u001B[0;32m   1169\u001B[0m     columns \u001B[38;5;241m=\u001B[39m block_table\u001B[38;5;241m.\u001B[39mcolumn_names\n\u001B[1;32m-> 1170\u001B[0m     result \u001B[38;5;241m=\u001B[39m \u001B[43mpa\u001B[49m\u001B[38;5;241;43m.\u001B[39;49m\u001B[43mlib\u001B[49m\u001B[38;5;241;43m.\u001B[39;49m\u001B[43mtable_to_blocks\u001B[49m\u001B[43m(\u001B[49m\u001B[43moptions\u001B[49m\u001B[43m,\u001B[49m\u001B[43m \u001B[49m\u001B[43mblock_table\u001B[49m\u001B[43m,\u001B[49m\u001B[43m \u001B[49m\u001B[43mcategories\u001B[49m\u001B[43m,\u001B[49m\n\u001B[0;32m   1171\u001B[0m \u001B[43m                                    \u001B[49m\u001B[38;5;28;43mlist\u001B[39;49m\u001B[43m(\u001B[49m\u001B[43mextension_columns\u001B[49m\u001B[38;5;241;43m.\u001B[39;49m\u001B[43mkeys\u001B[49m\u001B[43m(\u001B[49m\u001B[43m)\u001B[49m\u001B[43m)\u001B[49m\u001B[43m)\u001B[49m\n\u001B[0;32m   1172\u001B[0m     \u001B[38;5;28;01mreturn\u001B[39;00m [_reconstruct_block(item, columns, extension_columns)\n\u001B[0;32m   1173\u001B[0m             \u001B[38;5;28;01mfor\u001B[39;00m item \u001B[38;5;129;01min\u001B[39;00m result]\n",
      "\u001B[1;31mKeyboardInterrupt\u001B[0m: "
     ]
    }
   ],
   "source": [
    "mine = pd.read_parquet(\"../data/charts.parquet\")\n"
   ],
   "metadata": {
    "collapsed": false,
    "pycharm": {
     "name": "#%%\n"
    }
   }
  },
  {
   "cell_type": "code",
   "execution_count": 15,
   "outputs": [
    {
     "data": {
      "text/plain": "'Haftbefehl'"
     },
     "execution_count": 15,
     "metadata": {},
     "output_type": "execute_result"
    }
   ],
   "source": [
    "mine.artists[0][0]"
   ],
   "metadata": {
    "collapsed": false,
    "pycharm": {
     "name": "#%%\n"
    }
   }
  },
  {
   "cell_type": "code",
   "execution_count": 14,
   "outputs": [
    {
     "data": {
      "text/plain": "                       name country       date  position  streams  \\\n0                Crackküche      de 2021-04-15        82   625718   \n1                     WATER      jp 2019-01-31       171    50896   \n2        Gözleri Aşka Gülen      tr 2018-11-15        59   185439   \n3        Gözleri Aşka Gülen      tr 2018-11-22       133   111159   \n4        Gözleri Aşka Gülen      tr 2018-11-29       166    96204   \n...                     ...     ...        ...       ...      ...   \n5299303    När löven faller      se 2019-11-28       163   165644   \n5299304        ワガママで誤魔化さないで      jp 2019-01-17       161    49580   \n5299305        ワガママで誤魔化さないで      jp 2019-01-24       139    56826   \n5299306        ワガママで誤魔化さないで      jp 2019-01-31       151    53897   \n5299307   Digital Kærlighed      dk 2020-04-02       172    65808   \n\n                       artists  \\\n0                 [Haftbefehl]   \n1                    [Suchmos]   \n2                   [Nilipek.]   \n3                   [Nilipek.]   \n4                   [Nilipek.]   \n...                        ...   \n5299303       [Ebbot Lundberg]   \n5299304  [THE ORAL CIGARETTES]   \n5299305  [THE ORAL CIGARETTES]   \n5299306  [THE ORAL CIGARETTES]   \n5299307            [Lord Siva]   \n\n                                             artist_genres  duration  \\\n0                                         [german hip hop]  3.312433   \n1        [japanese r&b, j-rock, japanese soul, japanese...  6.805333   \n2                [turkish singer-songwriter, turkish rock]  4.285700   \n3                [turkish singer-songwriter, turkish rock]  4.285700   \n4                [turkish singer-songwriter, turkish rock]  4.285700   \n...                                                    ...       ...   \n5299303                         [swedish alternative rock]  4.213300   \n5299304    [j-poprock, anime, j-rock, japanese indie rock]  4.287833   \n5299305    [j-poprock, anime, j-rock, japanese indie rock]  4.287833   \n5299306    [j-poprock, anime, j-rock, japanese indie rock]  4.287833   \n5299307                       [danish pop, danish hip hop]  3.525000   \n\n         explicit  song_id  \n0           False        1  \n1           False        2  \n2           False        3  \n3           False        3  \n4           False        3  \n...           ...      ...  \n5299303     False   327311  \n5299304     False   327312  \n5299305     False   327312  \n5299306     False   327312  \n5299307     False   327313  \n\n[5298457 rows x 10 columns]",
      "text/html": "<div>\n<style scoped>\n    .dataframe tbody tr th:only-of-type {\n        vertical-align: middle;\n    }\n\n    .dataframe tbody tr th {\n        vertical-align: top;\n    }\n\n    .dataframe thead th {\n        text-align: right;\n    }\n</style>\n<table border=\"1\" class=\"dataframe\">\n  <thead>\n    <tr style=\"text-align: right;\">\n      <th></th>\n      <th>name</th>\n      <th>country</th>\n      <th>date</th>\n      <th>position</th>\n      <th>streams</th>\n      <th>artists</th>\n      <th>artist_genres</th>\n      <th>duration</th>\n      <th>explicit</th>\n      <th>song_id</th>\n    </tr>\n  </thead>\n  <tbody>\n    <tr>\n      <th>0</th>\n      <td>Crackküche</td>\n      <td>de</td>\n      <td>2021-04-15</td>\n      <td>82</td>\n      <td>625718</td>\n      <td>[Haftbefehl]</td>\n      <td>[german hip hop]</td>\n      <td>3.312433</td>\n      <td>False</td>\n      <td>1</td>\n    </tr>\n    <tr>\n      <th>1</th>\n      <td>WATER</td>\n      <td>jp</td>\n      <td>2019-01-31</td>\n      <td>171</td>\n      <td>50896</td>\n      <td>[Suchmos]</td>\n      <td>[japanese r&amp;b, j-rock, japanese soul, japanese...</td>\n      <td>6.805333</td>\n      <td>False</td>\n      <td>2</td>\n    </tr>\n    <tr>\n      <th>2</th>\n      <td>Gözleri Aşka Gülen</td>\n      <td>tr</td>\n      <td>2018-11-15</td>\n      <td>59</td>\n      <td>185439</td>\n      <td>[Nilipek.]</td>\n      <td>[turkish singer-songwriter, turkish rock]</td>\n      <td>4.285700</td>\n      <td>False</td>\n      <td>3</td>\n    </tr>\n    <tr>\n      <th>3</th>\n      <td>Gözleri Aşka Gülen</td>\n      <td>tr</td>\n      <td>2018-11-22</td>\n      <td>133</td>\n      <td>111159</td>\n      <td>[Nilipek.]</td>\n      <td>[turkish singer-songwriter, turkish rock]</td>\n      <td>4.285700</td>\n      <td>False</td>\n      <td>3</td>\n    </tr>\n    <tr>\n      <th>4</th>\n      <td>Gözleri Aşka Gülen</td>\n      <td>tr</td>\n      <td>2018-11-29</td>\n      <td>166</td>\n      <td>96204</td>\n      <td>[Nilipek.]</td>\n      <td>[turkish singer-songwriter, turkish rock]</td>\n      <td>4.285700</td>\n      <td>False</td>\n      <td>3</td>\n    </tr>\n    <tr>\n      <th>...</th>\n      <td>...</td>\n      <td>...</td>\n      <td>...</td>\n      <td>...</td>\n      <td>...</td>\n      <td>...</td>\n      <td>...</td>\n      <td>...</td>\n      <td>...</td>\n      <td>...</td>\n    </tr>\n    <tr>\n      <th>5299303</th>\n      <td>När löven faller</td>\n      <td>se</td>\n      <td>2019-11-28</td>\n      <td>163</td>\n      <td>165644</td>\n      <td>[Ebbot Lundberg]</td>\n      <td>[swedish alternative rock]</td>\n      <td>4.213300</td>\n      <td>False</td>\n      <td>327311</td>\n    </tr>\n    <tr>\n      <th>5299304</th>\n      <td>ワガママで誤魔化さないで</td>\n      <td>jp</td>\n      <td>2019-01-17</td>\n      <td>161</td>\n      <td>49580</td>\n      <td>[THE ORAL CIGARETTES]</td>\n      <td>[j-poprock, anime, j-rock, japanese indie rock]</td>\n      <td>4.287833</td>\n      <td>False</td>\n      <td>327312</td>\n    </tr>\n    <tr>\n      <th>5299305</th>\n      <td>ワガママで誤魔化さないで</td>\n      <td>jp</td>\n      <td>2019-01-24</td>\n      <td>139</td>\n      <td>56826</td>\n      <td>[THE ORAL CIGARETTES]</td>\n      <td>[j-poprock, anime, j-rock, japanese indie rock]</td>\n      <td>4.287833</td>\n      <td>False</td>\n      <td>327312</td>\n    </tr>\n    <tr>\n      <th>5299306</th>\n      <td>ワガママで誤魔化さないで</td>\n      <td>jp</td>\n      <td>2019-01-31</td>\n      <td>151</td>\n      <td>53897</td>\n      <td>[THE ORAL CIGARETTES]</td>\n      <td>[j-poprock, anime, j-rock, japanese indie rock]</td>\n      <td>4.287833</td>\n      <td>False</td>\n      <td>327312</td>\n    </tr>\n    <tr>\n      <th>5299307</th>\n      <td>Digital Kærlighed</td>\n      <td>dk</td>\n      <td>2020-04-02</td>\n      <td>172</td>\n      <td>65808</td>\n      <td>[Lord Siva]</td>\n      <td>[danish pop, danish hip hop]</td>\n      <td>3.525000</td>\n      <td>False</td>\n      <td>327313</td>\n    </tr>\n  </tbody>\n</table>\n<p>5298457 rows × 10 columns</p>\n</div>"
     },
     "execution_count": 14,
     "metadata": {},
     "output_type": "execute_result"
    }
   ],
   "source": [
    "mine"
   ],
   "metadata": {
    "collapsed": false,
    "pycharm": {
     "name": "#%%\n"
    }
   }
  }
 ],
 "metadata": {
  "kernelspec": {
   "display_name": "Python 3",
   "language": "python",
   "name": "python3"
  },
  "language_info": {
   "codemirror_mode": {
    "name": "ipython",
    "version": 3
   },
   "file_extension": ".py",
   "mimetype": "text/x-python",
   "name": "python",
   "nbconvert_exporter": "python",
   "pygments_lexer": "ipython3",
   "version": "3.10.0"
  },
  "orig_nbformat": 4,
  "vscode": {
   "interpreter": {
    "hash": "aee8b7b246df8f9039afb4144a1f6fd8d2ca17a180786b69acc140d282b71a49"
   }
  }
 },
 "nbformat": 4,
 "nbformat_minor": 2
}